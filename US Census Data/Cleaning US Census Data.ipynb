{
 "cells": [
  {
   "cell_type": "markdown",
   "metadata": {},
   "source": [
    "# Cleaning US Census Data"
   ]
  },
  {
   "cell_type": "markdown",
   "metadata": {},
   "source": [
    "You just got hired as a Data Analyst at the Census Bureau, which collects census data and creates interesting visualizations and insights from it.\n",
    "\n",
    "The person who had your job before you left you all the data they had for the most recent census. It is in multiple `csv` files. They didn't use pandas, they would just look through these `csv` files manually whenever they wanted to find something. Sometimes they would copy and paste certain numbers into Excel to make charts.\n",
    "\n",
    "The thought of it makes you shiver. This is not scalable or repeatable.\n",
    "\n",
    "Your boss wants you to make some scatterplots and histograms by the end of the day. Can you get this data into `pandas` and into reasonable shape so that you can make these histograms?"
   ]
  },
  {
   "cell_type": "markdown",
   "metadata": {},
   "source": [
    "## Inspect the Data!"
   ]
  },
  {
   "cell_type": "markdown",
   "metadata": {},
   "source": [
    "1. The first visualization your boss wants you to make is a scatterplot that shows average income in a state vs proportion of women in that state.\n",
    "\n",
    "   Open some of the census `csv` files that came with the kit you downloaded. How are they named? What kind of information do they hold? Will they help us make this graph?"
   ]
  },
  {
   "cell_type": "code",
   "execution_count": 1,
   "metadata": {},
   "outputs": [
    {
     "name": "stdout",
     "output_type": "stream",
     "text": [
      "   Unnamed: 0       State  TotalPop Hispanic   White   Black  Native   Asian  \\\n",
      "0           0     Alabama   4830620    3.75%  61.88%  31.25%   0.45%   1.05%   \n",
      "1           1      Alaska    733375    5.91%  60.91%   2.85%  16.39%   5.45%   \n",
      "2           2     Arizona   6641928   29.57%  57.12%   3.85%   4.36%   2.88%   \n",
      "3           3    Arkansas   2958208    6.22%  71.14%  18.97%   0.52%   1.14%   \n",
      "4           4  California  38421464   37.29%  40.22%   5.68%   0.41%  13.05%   \n",
      "\n",
      "  Pacific       Income            GenderPop  \n",
      "0   0.03%  $43,296.36     2341093M_2489527F  \n",
      "1   1.06%  $70,354.74       384160M_349215F  \n",
      "2   0.17%  $54,207.82     3299088M_3342840F  \n",
      "3   0.15%  $41,935.63     1451913M_1506295F  \n",
      "4   0.35%  $67,264.78   19087135M_19334329F  \n",
      "(6, 11)\n"
     ]
    }
   ],
   "source": [
    "import pandas as pd\n",
    "import numpy as np\n",
    "import matplotlib.pyplot as plt\n",
    "import seaborn as sns\n",
    "\n",
    "\n",
    "d = pd.read_csv(\"states0.csv\")\n",
    "print(d.head())\n",
    "print(d.shape)"
   ]
  },
  {
   "cell_type": "markdown",
   "metadata": {},
   "source": [
    "2. It will be easier to inspect this data once we have it in a DataFrame. You can't even call `.head()` on these `csv`s! How are you supposed to read them?\n",
    "\n",
    "   Using `glob`, loop through the census files available and load them into DataFrames. Then, concatenate all of those DataFrames together into one DataFrame, called something like `us_census`."
   ]
  },
  {
   "cell_type": "code",
   "execution_count": 2,
   "metadata": {},
   "outputs": [
    {
     "name": "stdout",
     "output_type": "stream",
     "text": [
      "(60, 11)\n"
     ]
    }
   ],
   "source": [
    "import glob \n",
    "\n",
    "census_data_to_combine = glob.glob(\"states*.csv\")\n",
    "\n",
    "us_census = []\n",
    "for census_data in census_data_to_combine:\n",
    "    data = pd.read_csv(census_data)\n",
    "    us_census.append(data)\n",
    "\n",
    "us_census = pd.concat(us_census)\n",
    "\n",
    "print(us_census.shape)\n"
   ]
  },
  {
   "cell_type": "markdown",
   "metadata": {},
   "source": [
    "3. Look at the `.columns` and the `.dtypes` of the `us_census` DataFrame. Are those datatypes going to hinder you as you try to make histograms?"
   ]
  },
  {
   "cell_type": "code",
   "execution_count": 3,
   "metadata": {},
   "outputs": [
    {
     "name": "stdout",
     "output_type": "stream",
     "text": [
      "Index(['Unnamed: 0', 'State', 'TotalPop', 'Hispanic', 'White', 'Black',\n",
      "       'Native', 'Asian', 'Pacific', 'Income', 'GenderPop'],\n",
      "      dtype='object')\n",
      "Unnamed: 0     int64\n",
      "State         object\n",
      "TotalPop       int64\n",
      "Hispanic      object\n",
      "White         object\n",
      "Black         object\n",
      "Native        object\n",
      "Asian         object\n",
      "Pacific       object\n",
      "Income        object\n",
      "GenderPop     object\n",
      "dtype: object\n"
     ]
    }
   ],
   "source": [
    "print(us_census.columns)\n",
    "print(us_census.dtypes)"
   ]
  },
  {
   "cell_type": "markdown",
   "metadata": {},
   "source": [
    "4. Look at the `head()` of the DataFrame so that you can understand why some of these `dtypes` are objects instead of integers or floats.\n",
    "\n",
    "   Start to make a plan for how to convert these columns into the right types for manipulation."
   ]
  },
  {
   "cell_type": "code",
   "execution_count": 4,
   "metadata": {},
   "outputs": [
    {
     "name": "stdout",
     "output_type": "stream",
     "text": [
      "   Unnamed: 0       State  TotalPop Hispanic   White   Black  Native   Asian  \\\n",
      "0           0     Alabama   4830620    3.75%  61.88%  31.25%   0.45%   1.05%   \n",
      "1           1      Alaska    733375    5.91%  60.91%   2.85%  16.39%   5.45%   \n",
      "2           2     Arizona   6641928   29.57%  57.12%   3.85%   4.36%   2.88%   \n",
      "3           3    Arkansas   2958208    6.22%  71.14%  18.97%   0.52%   1.14%   \n",
      "4           4  California  38421464   37.29%  40.22%   5.68%   0.41%  13.05%   \n",
      "\n",
      "  Pacific       Income            GenderPop  \n",
      "0   0.03%  $43,296.36     2341093M_2489527F  \n",
      "1   1.06%  $70,354.74       384160M_349215F  \n",
      "2   0.17%  $54,207.82     3299088M_3342840F  \n",
      "3   0.15%  $41,935.63     1451913M_1506295F  \n",
      "4   0.35%  $67,264.78   19087135M_19334329F  \n"
     ]
    }
   ],
   "source": [
    "print(us_census.head())"
   ]
  },
  {
   "cell_type": "markdown",
   "metadata": {},
   "source": [
    "## Regex to the Rescue"
   ]
  },
  {
   "cell_type": "markdown",
   "metadata": {},
   "source": [
    "5. Use regex to turn the `Income` column into a format that is ready for conversion into a numerical type."
   ]
  },
  {
   "cell_type": "code",
   "execution_count": 5,
   "metadata": {},
   "outputs": [
    {
     "name": "stdout",
     "output_type": "stream",
     "text": [
      "0    43296.36\n",
      "1    70354.74\n",
      "2    54207.82\n",
      "3    41935.63\n",
      "4    67264.78\n",
      "Name: Income, dtype: float64\n"
     ]
    }
   ],
   "source": [
    "us_census['Income'] = us_census['Income'].replace('[\\$\\,]','',regex=True)\n",
    "us_census['Income'] = pd.to_numeric(us_census['Income'])\n",
    "\n",
    "print(us_census['Income'].head())"
   ]
  },
  {
   "cell_type": "markdown",
   "metadata": {},
   "source": [
    "6. Look at the `GenderPop` column. We are going to want to separate this into two columns, the `Men` column, and the `Women` column.\n",
    "\n",
    "   Split the column into those two new columns using `str.split` and separating out those results."
   ]
  },
  {
   "cell_type": "code",
   "execution_count": 6,
   "metadata": {},
   "outputs": [
    {
     "name": "stdout",
     "output_type": "stream",
     "text": [
      "0     2341093M\n",
      "1      384160M\n",
      "2     3299088M\n",
      "3     1451913M\n",
      "4    19087135M\n",
      "Name: Men, dtype: object\n",
      "0     2489527F\n",
      "1      349215F\n",
      "2     3342840F\n",
      "3     1506295F\n",
      "4    19334329F\n",
      "Name: Women, dtype: object\n"
     ]
    }
   ],
   "source": [
    "gender_split = us_census['GenderPop'].str.split(\"_\")\n",
    "\n",
    "us_census['Men'] = gender_split.str.get(0)\n",
    "us_census['Women'] = gender_split.str.get(1)\n",
    "\n",
    "print(us_census['Men'].head())\n",
    "print(us_census['Women'].head())"
   ]
  },
  {
   "cell_type": "code",
   "execution_count": null,
   "metadata": {},
   "outputs": [],
   "source": []
  },
  {
   "cell_type": "markdown",
   "metadata": {},
   "source": [
    "7. Convert both of the columns into numerical datatypes.\n",
    "\n",
    "   There is still an `M` or an `F` character in each entry! We should remove those before we convert."
   ]
  },
  {
   "cell_type": "code",
   "execution_count": 7,
   "metadata": {},
   "outputs": [
    {
     "name": "stdout",
     "output_type": "stream",
     "text": [
      "0     2341093\n",
      "1      384160\n",
      "2     3299088\n",
      "3     1451913\n",
      "4    19087135\n",
      "Name: Men, dtype: int64\n",
      "0     2489527.0\n",
      "1      349215.0\n",
      "2     3342840.0\n",
      "3     1506295.0\n",
      "4    19334329.0\n",
      "Name: Women, dtype: float64\n"
     ]
    }
   ],
   "source": [
    "us_census['Men'] = us_census['Men'].str.split('(\\d+)',expand = True)[1]\n",
    "us_census['Men'] = pd.to_numeric(us_census.Men)\n",
    "\n",
    "us_census['Women']= us_census['Women'].str.split('(\\d+)',expand = True)[1]\n",
    "us_census['Women'] = pd.to_numeric(us_census.Women)\n",
    "\n",
    "print(us_census['Men'].head())\n",
    "print(us_census['Women'].head())"
   ]
  },
  {
   "cell_type": "code",
   "execution_count": 8,
   "metadata": {},
   "outputs": [],
   "source": [
    "#converting float into int for women column\n",
    "us_census['Women'] = us_census['Women'].astype(\"Int64\")"
   ]
  },
  {
   "cell_type": "code",
   "execution_count": 9,
   "metadata": {},
   "outputs": [
    {
     "name": "stdout",
     "output_type": "stream",
     "text": [
      "   Unnamed: 0       State  TotalPop Hispanic   White   Black  Native   Asian  \\\n",
      "0           0     Alabama   4830620    3.75%  61.88%  31.25%   0.45%   1.05%   \n",
      "1           1      Alaska    733375    5.91%  60.91%   2.85%  16.39%   5.45%   \n",
      "2           2     Arizona   6641928   29.57%  57.12%   3.85%   4.36%   2.88%   \n",
      "3           3    Arkansas   2958208    6.22%  71.14%  18.97%   0.52%   1.14%   \n",
      "4           4  California  38421464   37.29%  40.22%   5.68%   0.41%  13.05%   \n",
      "\n",
      "  Pacific    Income            GenderPop       Men     Women  \n",
      "0   0.03%  43296.36    2341093M_2489527F   2341093   2489527  \n",
      "1   1.06%  70354.74      384160M_349215F    384160    349215  \n",
      "2   0.17%  54207.82    3299088M_3342840F   3299088   3342840  \n",
      "3   0.15%  41935.63    1451913M_1506295F   1451913   1506295  \n",
      "4   0.35%  67264.78  19087135M_19334329F  19087135  19334329  \n"
     ]
    }
   ],
   "source": [
    "print(us_census.head())"
   ]
  },
  {
   "cell_type": "markdown",
   "metadata": {},
   "source": [
    "8. Now you should have the columns you need to make the graph and make sure your boss does not slam a ruler angrily on your desk because you've wasted your whole day cleaning your data with no results to show!\n",
    "\n",
    "   Use matplotlib to make a scatterplot!\n",
    "   \n",
    "   ```py\n",
    "   plt.scatter(the_women_column, the_income_column)\n",
    "   ```\n",
    "   \n",
    "   Remember to call `plt.show()` to see the graph!"
   ]
  },
  {
   "cell_type": "code",
   "execution_count": 10,
   "metadata": {},
   "outputs": [
    {
     "name": "stderr",
     "output_type": "stream",
     "text": [
      "E:\\Anaconda\\lib\\site-packages\\seaborn\\_decorators.py:36: FutureWarning: Pass the following variables as keyword args: x, y. From version 0.12, the only valid positional argument will be `data`, and passing other arguments without an explicit keyword will result in an error or misinterpretation.\n",
      "  warnings.warn(\n"
     ]
    },
    {
     "data": {
      "image/png": "[encoded data removed]",
      "text/plain": [
       "<Figure size 432x288 with 1 Axes>"
      ]
     },
     "metadata": {
      "needs_background": "light"
     },
     "output_type": "display_data"
    }
   ],
   "source": [
    "sns.scatterplot(us_census.Women,us_census.Income)\n",
    "plt.show()"
   ]
  },
  {
   "cell_type": "markdown",
   "metadata": {},
   "source": [
    "9. You want to double check your work. You know from experience that these monstrous csv files probably have `nan` values in them! Print out your column with the number of women per state to see.\n",
    "\n",
    "   We can fill in those `nan`s by using pandas' `.fillna()` function.\n",
    "   \n",
    "   You have the `TotalPop` per state, and you have the `Men` per state. As an estimate for the `nan` values in the `Women` column, you could use the `TotalPop` of that state minus the `Men` for that state.\n",
    "   \n",
    "   Print out the `Women` column after filling the `nan` values to see if it worked!"
   ]
  },
  {
   "cell_type": "code",
   "execution_count": 11,
   "metadata": {},
   "outputs": [
    {
     "name": "stdout",
     "output_type": "stream",
     "text": [
      "3\n"
     ]
    }
   ],
   "source": [
    "#checking for nan values\n",
    "print(us_census['Women'].isna().sum())"
   ]
  },
  {
   "cell_type": "code",
   "execution_count": 12,
   "metadata": {},
   "outputs": [
    {
     "name": "stdout",
     "output_type": "stream",
     "text": [
      "0\n"
     ]
    }
   ],
   "source": [
    "us_census['Women'] = us_census['TotalPop'] - us_census['Men']\n",
    "print(us_census['Women'].isna().sum())"
   ]
  },
  {
   "cell_type": "code",
   "execution_count": 13,
   "metadata": {},
   "outputs": [
    {
     "name": "stderr",
     "output_type": "stream",
     "text": [
      "E:\\Anaconda\\lib\\site-packages\\seaborn\\_decorators.py:36: FutureWarning: Pass the following variables as keyword args: x, y. From version 0.12, the only valid positional argument will be `data`, and passing other arguments without an explicit keyword will result in an error or misinterpretation.\n",
      "  warnings.warn(\n"
     ]
    },
    {
     "data": {
      "image/png": "[encoded data removed]",
      "text/plain": [
       "<Figure size 432x288 with 1 Axes>"
      ]
     },
     "metadata": {
      "needs_background": "light"
     },
     "output_type": "display_data"
    }
   ],
   "source": [
    "sns.scatterplot(us_census.Women,us_census.Income)\n",
    "plt.show()"
   ]
  },
  {
   "cell_type": "markdown",
   "metadata": {},
   "source": [
    "10. We forgot to check for duplicates! Use `.duplicated()` on your `census` DataFrame to see if we have duplicate rows in there."
   ]
  },
  {
   "cell_type": "code",
   "execution_count": 14,
   "metadata": {},
   "outputs": [
    {
     "name": "stdout",
     "output_type": "stream",
     "text": [
      "False    60\n",
      "dtype: int64\n"
     ]
    }
   ],
   "source": [
    "duplicates = us_census.duplicated()\n",
    "print(duplicates.value_counts())"
   ]
  },
  {
   "cell_type": "markdown",
   "metadata": {},
   "source": [
    "11. Drop those duplicates using the `.drop_duplicates()` function."
   ]
  },
  {
   "cell_type": "code",
   "execution_count": 15,
   "metadata": {},
   "outputs": [],
   "source": [
    "us_census = us_census.drop_duplicates()"
   ]
  },
  {
   "cell_type": "markdown",
   "metadata": {},
   "source": [
    "12. Make the scatterplot again. Now, it should be perfect! Your job is secure, for now."
   ]
  },
  {
   "cell_type": "code",
   "execution_count": 16,
   "metadata": {},
   "outputs": [
    {
     "name": "stderr",
     "output_type": "stream",
     "text": [
      "E:\\Anaconda\\lib\\site-packages\\seaborn\\_decorators.py:36: FutureWarning: Pass the following variables as keyword args: x, y. From version 0.12, the only valid positional argument will be `data`, and passing other arguments without an explicit keyword will result in an error or misinterpretation.\n",
      "  warnings.warn(\n"
     ]
    },
    {
     "data": {
      "image/png": "[encoded data removed]",
      "text/plain": [
       "<Figure size 432x288 with 1 Axes>"
      ]
     },
     "metadata": {
      "needs_background": "light"
     },
     "output_type": "display_data"
    }
   ],
   "source": [
    "sns.scatterplot(us_census.Women,us_census.Income)\n",
    "plt.show()"
   ]
  },
  {
   "cell_type": "markdown",
   "metadata": {},
   "source": [
    "## Histogram of Races"
   ]
  },
  {
   "cell_type": "markdown",
   "metadata": {},
   "source": [
    "13. Now your boss wants you to make a bunch of histograms out of the race data that you have. Look at the `.columns` again to see what the race categories are."
   ]
  },
  {
   "cell_type": "code",
   "execution_count": 17,
   "metadata": {},
   "outputs": [
    {
     "name": "stdout",
     "output_type": "stream",
     "text": [
      "Index(['Unnamed: 0', 'State', 'TotalPop', 'Hispanic', 'White', 'Black',\n",
      "       'Native', 'Asian', 'Pacific', 'Income', 'GenderPop', 'Men', 'Women'],\n",
      "      dtype='object')\n",
      "   Unnamed: 0       State  TotalPop Hispanic   White   Black  Native   Asian  \\\n",
      "0           0     Alabama   4830620    3.75%  61.88%  31.25%   0.45%   1.05%   \n",
      "1           1      Alaska    733375    5.91%  60.91%   2.85%  16.39%   5.45%   \n",
      "2           2     Arizona   6641928   29.57%  57.12%   3.85%   4.36%   2.88%   \n",
      "3           3    Arkansas   2958208    6.22%  71.14%  18.97%   0.52%   1.14%   \n",
      "4           4  California  38421464   37.29%  40.22%   5.68%   0.41%  13.05%   \n",
      "\n",
      "  Pacific    Income            GenderPop       Men     Women  \n",
      "0   0.03%  43296.36    2341093M_2489527F   2341093   2489527  \n",
      "1   1.06%  70354.74      384160M_349215F    384160    349215  \n",
      "2   0.17%  54207.82    3299088M_3342840F   3299088   3342840  \n",
      "3   0.15%  41935.63    1451913M_1506295F   1451913   1506295  \n",
      "4   0.35%  67264.78  19087135M_19334329F  19087135  19334329  \n"
     ]
    }
   ],
   "source": [
    "col_names = us_census.columns\n",
    "print(col_names)\n",
    "\n",
    "print(us_census.head())"
   ]
  },
  {
   "cell_type": "code",
   "execution_count": 18,
   "metadata": {},
   "outputs": [
    {
     "name": "stdout",
     "output_type": "stream",
     "text": [
      "        State  TotalPop Hispanic   White   Black  Native   Asian Pacific  \\\n",
      "0     Alabama   4830620    3.75%  61.88%  31.25%   0.45%   1.05%   0.03%   \n",
      "1      Alaska    733375    5.91%  60.91%   2.85%  16.39%   5.45%   1.06%   \n",
      "2     Arizona   6641928   29.57%  57.12%   3.85%   4.36%   2.88%   0.17%   \n",
      "3    Arkansas   2958208    6.22%  71.14%  18.97%   0.52%   1.14%   0.15%   \n",
      "4  California  38421464   37.29%  40.22%   5.68%   0.41%  13.05%   0.35%   \n",
      "\n",
      "     Income            GenderPop       Men     Women  \n",
      "0  43296.36    2341093M_2489527F   2341093   2489527  \n",
      "1  70354.74      384160M_349215F    384160    349215  \n",
      "2  54207.82    3299088M_3342840F   3299088   3342840  \n",
      "3  41935.63    1451913M_1506295F   1451913   1506295  \n",
      "4  67264.78  19087135M_19334329F  19087135  19334329  \n"
     ]
    }
   ],
   "source": [
    "us_census = us_census.drop('Unnamed: 0', axis=1)\n",
    "\n",
    "print(us_census.head())\n"
   ]
  },
  {
   "cell_type": "markdown",
   "metadata": {},
   "source": [
    "14. Try to make a histogram for each one!\n",
    "\n",
    "    You will have to get the columns into the numerical format, and those percentage signs will have to go.\n",
    "    \n",
    "    Don't forget to fill the `nan` values with something that makes sense! You probably dropped the duplicate rows when making your last graph, but it couldn't hurt to check for duplicates again."
   ]
  },
  {
   "cell_type": "code",
   "execution_count": 19,
   "metadata": {},
   "outputs": [
    {
     "name": "stdout",
     "output_type": "stream",
     "text": [
      "0     3.75\n",
      "1     5.91\n",
      "2    29.57\n",
      "3     6.22\n",
      "4    37.29\n",
      "Name: Hispanic, dtype: float64\n"
     ]
    }
   ],
   "source": [
    "#removing percentage sysmbol from hispanic column\n",
    "us_census['Hispanic'] = us_census['Hispanic'].replace('[\\%]','',regex=True)\n",
    "us_census['Hispanic'] = pd.to_numeric(us_census['Hispanic'])\n",
    "print(us_census['Hispanic'].head())"
   ]
  },
  {
   "cell_type": "code",
   "execution_count": 23,
   "metadata": {},
   "outputs": [
    {
     "name": "stdout",
     "output_type": "stream",
     "text": [
      "        State  TotalPop  Hispanic  White  Black  Native  Asian  Pacific  \\\n",
      "0     Alabama   4830620      3.75  61.88  31.25    0.45   1.05     0.03   \n",
      "1      Alaska    733375      5.91  60.91   2.85   16.39   5.45     1.06   \n",
      "2     Arizona   6641928     29.57  57.12   3.85    4.36   2.88     0.17   \n",
      "3    Arkansas   2958208      6.22  71.14  18.97    0.52   1.14     0.15   \n",
      "4  California  38421464     37.29  40.22   5.68    0.41  13.05     0.35   \n",
      "\n",
      "     Income            GenderPop       Men     Women  \n",
      "0  43296.36    2341093M_2489527F   2341093   2489527  \n",
      "1  70354.74      384160M_349215F    384160    349215  \n",
      "2  54207.82    3299088M_3342840F   3299088   3342840  \n",
      "3  41935.63    1451913M_1506295F   1451913   1506295  \n",
      "4  67264.78  19087135M_19334329F  19087135  19334329  \n"
     ]
    }
   ],
   "source": [
    "# removing percentage symbol from all other columns \n",
    "\n",
    "us_census['White'] = us_census['White'].replace('[\\%]','',regex=True)\n",
    "us_census['White'] = pd.to_numeric(us_census['White'])\n",
    "\n",
    "us_census['Black'] = us_census['Black'].replace('[\\%]','',regex=True)\n",
    "us_census['Black'] = pd.to_numeric(us_census['Black'])\n",
    "\n",
    "us_census['Native'] = us_census['Native'].replace('[\\%]','',regex=True)\n",
    "us_census['Native'] = pd.to_numeric(us_census['Native'])\n",
    "\n",
    "us_census['Asian'] = us_census['Asian'].replace('[\\%]','',regex=True)\n",
    "us_census['Asian'] = pd.to_numeric(us_census['Asian'])\n",
    "\n",
    "us_census['Pacific'] = us_census['Pacific'].replace('[\\%]','',regex=True)\n",
    "us_census['Pacific'] = pd.to_numeric(us_census['Pacific'])\n",
    "\n",
    "print(us_census.head())"
   ]
  },
  {
   "cell_type": "code",
   "execution_count": 25,
   "metadata": {},
   "outputs": [
    {
     "name": "stdout",
     "output_type": "stream",
     "text": [
      "State        0\n",
      "TotalPop     0\n",
      "Hispanic     0\n",
      "White        0\n",
      "Black        0\n",
      "Native       0\n",
      "Asian        0\n",
      "Pacific      5\n",
      "Income       0\n",
      "GenderPop    0\n",
      "Men          0\n",
      "Women        0\n",
      "dtype: int64\n"
     ]
    }
   ],
   "source": [
    "#checking the null values\n",
    "print(us_census.isnull().sum())"
   ]
  },
  {
   "cell_type": "code",
   "execution_count": 26,
   "metadata": {},
   "outputs": [
    {
     "name": "stdout",
     "output_type": "stream",
     "text": [
      "State        0\n",
      "TotalPop     0\n",
      "Hispanic     0\n",
      "White        0\n",
      "Black        0\n",
      "Native       0\n",
      "Asian        0\n",
      "Pacific      0\n",
      "Income       0\n",
      "GenderPop    0\n",
      "Men          0\n",
      "Women        0\n",
      "dtype: int64\n"
     ]
    }
   ],
   "source": [
    "# replacing the null values in pacific using mean\n",
    "\n",
    "us_census = us_census.fillna(value = {\"Pacific\":us_census.Pacific.mean()})\n",
    "\n",
    "print(us_census.isnull().sum())"
   ]
  },
  {
   "cell_type": "code",
   "execution_count": 27,
   "metadata": {},
   "outputs": [
    {
     "name": "stdout",
     "output_type": "stream",
     "text": [
      "        State  TotalPop  Hispanic  White  Black  Native  Asian  Pacific  \\\n",
      "0     Alabama   4830620      3.75  61.88  31.25    0.45   1.05     0.03   \n",
      "1      Alaska    733375      5.91  60.91   2.85   16.39   5.45     1.06   \n",
      "2     Arizona   6641928     29.57  57.12   3.85    4.36   2.88     0.17   \n",
      "3    Arkansas   2958208      6.22  71.14  18.97    0.52   1.14     0.15   \n",
      "4  California  38421464     37.29  40.22   5.68    0.41  13.05     0.35   \n",
      "\n",
      "     Income       Men     Women  \n",
      "0  43296.36   2341093   2489527  \n",
      "1  70354.74    384160    349215  \n",
      "2  54207.82   3299088   3342840  \n",
      "3  41935.63   1451913   1506295  \n",
      "4  67264.78  19087135  19334329  \n"
     ]
    }
   ],
   "source": [
    "us_census = us_census.drop('GenderPop', axis=1)\n",
    "\n",
    "print(us_census.head())\n"
   ]
  },
  {
   "cell_type": "code",
   "execution_count": 29,
   "metadata": {},
   "outputs": [
    {
     "name": "stdout",
     "output_type": "stream",
     "text": [
      "State        object\n",
      "TotalPop      int64\n",
      "Hispanic    float64\n",
      "White       float64\n",
      "Black       float64\n",
      "Native      float64\n",
      "Asian       float64\n",
      "Pacific     float64\n",
      "Income      float64\n",
      "Men           int64\n",
      "Women         int64\n",
      "dtype: object\n"
     ]
    }
   ],
   "source": [
    "print(us_census.dtypes)"
   ]
  },
  {
   "cell_type": "code",
   "execution_count": 37,
   "metadata": {},
   "outputs": [
    {
     "data": {
      "image/png": "[encoded data removed]",
      "text/plain": [
       "<Figure size 432x288 with 1 Axes>"
      ]
     },
     "metadata": {
      "needs_background": "light"
     },
     "output_type": "display_data"
    },
    {
     "data": {
      "image/png": "[encoded data removed]",
      "text/plain": [
       "<Figure size 432x288 with 1 Axes>"
      ]
     },
     "metadata": {
      "needs_background": "light"
     },
     "output_type": "display_data"
    },
    {
     "data": {
      "image/png": "[encoded data removed]",
      "text/plain": [
       "<Figure size 432x288 with 1 Axes>"
      ]
     },
     "metadata": {
      "needs_background": "light"
     },
     "output_type": "display_data"
    },
    {
     "data": {
      "text/plain": [
       "<Figure size 432x288 with 0 Axes>"
      ]
     },
     "metadata": {},
     "output_type": "display_data"
    }
   ],
   "source": [
    "columns = ['TotalPop', 'Hispanic', 'White', 'Black',\n",
    "       'Native', 'Asian', 'Pacific', 'Income', 'GenderPop', 'Men', 'Women']\n",
    "\n",
    "\n",
    "sns.histplot(us_census.TotalPop, bins=20)\n",
    "plt.show()\n",
    "plt.clf()\n",
    "\n",
    "sns.histplot(us_census.Hispanic, bins=20)\n",
    "plt.show()\n",
    "plt.clf()\n",
    "\n",
    "sns.histplot(us_census.White,bins= 20)\n",
    "plt.show()\n",
    "plt.clf()\n"
   ]
  },
  {
   "cell_type": "code",
   "execution_count": 40,
   "metadata": {},
   "outputs": [
    {
     "data": {
      "image/png": "[encoded data removed]",
      "text/plain": [
       "<Figure size 432x288 with 1 Axes>"
      ]
     },
     "metadata": {
      "needs_background": "light"
     },
     "output_type": "display_data"
    },
    {
     "name": "stdout",
     "output_type": "stream",
     "text": [
      "20720.54\n"
     ]
    },
    {
     "data": {
      "text/plain": [
       "<Figure size 432x288 with 0 Axes>"
      ]
     },
     "metadata": {},
     "output_type": "display_data"
    }
   ],
   "source": [
    "sns.boxplot(data = us_census, x = \"Income\")\n",
    "plt.show()\n",
    "plt.clf()\n",
    "\n",
    "print(us_census['Income'].min())"
   ]
  },
  {
   "cell_type": "code",
   "execution_count": 45,
   "metadata": {},
   "outputs": [
    {
     "data": {
      "image/png": "[encoded data removed]",
      "text/plain": [
       "<Figure size 432x288 with 1 Axes>"
      ]
     },
     "metadata": {
      "needs_background": "light"
     },
     "output_type": "display_data"
    },
    {
     "data": {
      "image/png": "[encoded data removed]",
      "text/plain": [
       "<Figure size 432x288 with 1 Axes>"
      ]
     },
     "metadata": {
      "needs_background": "light"
     },
     "output_type": "display_data"
    },
    {
     "data": {
      "image/png": "[encoded data removed]",
      "text/plain": [
       "<Figure size 432x288 with 1 Axes>"
      ]
     },
     "metadata": {
      "needs_background": "light"
     },
     "output_type": "display_data"
    },
    {
     "data": {
      "image/png": "[encoded data removed]",
      "text/plain": [
       "<Figure size 432x288 with 1 Axes>"
      ]
     },
     "metadata": {
      "needs_background": "light"
     },
     "output_type": "display_data"
    },
    {
     "data": {
      "text/plain": [
       "<Figure size 432x288 with 0 Axes>"
      ]
     },
     "metadata": {},
     "output_type": "display_data"
    }
   ],
   "source": [
    "sns.histplot(us_census.Men,bins= 20)\n",
    "plt.show()\n",
    "plt.clf()\n",
    "\n",
    "sns.histplot(us_census.Women,bins= 20)\n",
    "plt.show()\n",
    "plt.clf()\n",
    "\n",
    "\n",
    "sns.boxplot(data = us_census, x = \"Men\")\n",
    "plt.show()\n",
    "plt.clf()\n",
    "\n",
    "sns.boxplot(data = us_census, x = \"Women\")\n",
    "plt.show()\n",
    "plt.clf()"
   ]
  },
  {
   "cell_type": "code",
   "execution_count": null,
   "metadata": {},
   "outputs": [],
   "source": []
  }
 ],
 "metadata": {
  "kernelspec": {
   "display_name": "Python 3 (ipykernel)",
   "language": "python",
   "name": "python3"
  },
  "language_info": {
   "codemirror_mode": {
    "name": "ipython",
    "version": 3
   },
   "file_extension": ".py",
   "mimetype": "text/x-python",
   "name": "python",
   "nbconvert_exporter": "python",
   "pygments_lexer": "ipython3",
   "version": "3.9.7"
  }
 },
 "nbformat": 4,
 "nbformat_minor": 2
}
